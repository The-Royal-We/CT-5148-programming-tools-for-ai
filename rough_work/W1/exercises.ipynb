{
 "cells": [
  {
   "cell_type": "markdown",
   "id": "14adb231",
   "metadata": {},
   "source": [
    "# Exercise\n",
    "Write an expression which evals to `True` if the numof seconds in a year is gt that number of months in a millenium"
   ]
  },
  {
   "cell_type": "code",
   "execution_count": 1,
   "id": "d751c6be",
   "metadata": {},
   "outputs": [
    {
     "data": {
      "text/plain": [
       "True"
      ]
     },
     "execution_count": 1,
     "metadata": {},
     "output_type": "execute_result"
    }
   ],
   "source": [
    "def year_mil_soln():\n",
    "    secs_year = 365 * 24 * 60 * 60\n",
    "    months_mil = 1000 * 12\n",
    "    return secs_year >= months_mil \n",
    "\n",
    "year_mil_soln()"
   ]
  },
  {
   "cell_type": "markdown",
   "id": "5b2f6dce",
   "metadata": {},
   "source": [
    "## Excersice \n",
    "Using `while` write code that prints the Hailstones seq starting at `n`"
   ]
  },
  {
   "cell_type": "code",
   "execution_count": 3,
   "id": "c751b9ae",
   "metadata": {},
   "outputs": [
    {
     "name": "stdout",
     "output_type": "stream",
     "text": [
      "50\n",
      "25\n",
      "76\n",
      "38\n",
      "19\n",
      "58\n",
      "29\n",
      "88\n",
      "44\n",
      "22\n",
      "11\n",
      "34\n",
      "17\n",
      "52\n",
      "26\n",
      "13\n",
      "40\n",
      "20\n",
      "10\n",
      "5\n",
      "16\n",
      "8\n",
      "4\n",
      "2\n",
      "1\n"
     ]
    }
   ],
   "source": [
    "def hailstone_seq(n: int) :\n",
    "    current = n\n",
    "    while True:\n",
    "        print(current)\n",
    "        if current == 1:\n",
    "            return\n",
    "        if current % 2 == 0: # is even\n",
    "            current //= 2\n",
    "        else:\n",
    "            current = current * 3 + 1\n",
    "\n",
    "hailstone_seq(50)"
   ]
  },
  {
   "cell_type": "markdown",
   "id": "0a79d8b9",
   "metadata": {},
   "source": [
    "**Exercise**: calculate e^2sin(2pi)"
   ]
  },
  {
   "cell_type": "code",
   "execution_count": 2,
   "id": "e226831f",
   "metadata": {},
   "outputs": [
    {
     "data": {
      "text/plain": [
       "0.9999999999999996"
      ]
     },
     "execution_count": 2,
     "metadata": {},
     "output_type": "execute_result"
    }
   ],
   "source": [
    "import math\n",
    "math.e**(2*math.sin(2*math.pi))"
   ]
  },
  {
   "cell_type": "markdown",
   "id": "12013715",
   "metadata": {},
   "source": [
    "**Exercise**: paste newton func into own file and invoke from another"
   ]
  },
  {
   "cell_type": "code",
   "execution_count": null,
   "id": "65305e46",
   "metadata": {},
   "outputs": [
    {
     "name": "stdout",
     "output_type": "stream",
     "text": [
      "5\n",
      "8.9\n",
      "8.045505617977529\n",
      "8.00012869056128\n",
      "8.000000001035062\n"
     ]
    }
   ],
   "source": [
    "def newton(a, x0, tol=10**-8): # define a new function\n",
    "    \"\"\"Newton's method for finding square roots.\"\"\"\n",
    "    x = x0 # initial value\n",
    "    while True: # forever\n",
    "        print(x)\n",
    "        y = (x + a/x) / 2 # update y\n",
    "        if abs(x - y) < tol: # x and y arbitrarily close\n",
    "            break # exit the infinite loop\n",
    "        x = y # update x\n",
    "    return x\n",
    "if __name__ == \"__main__\": # Trick to test a python file\n",
    "    newton(64, 5)"
   ]
  },
  {
   "cell_type": "code",
   "execution_count": 6,
   "id": "d8c98e55",
   "metadata": {},
   "outputs": [
    {
     "name": "stdout",
     "output_type": "stream",
     "text": [
      "5\n",
      "8.9\n",
      "8.045505617977529\n",
      "8.00012869056128\n",
      "8.000000001035062\n"
     ]
    },
    {
     "data": {
      "text/plain": [
       "8.000000001035062"
      ]
     },
     "execution_count": 6,
     "metadata": {},
     "output_type": "execute_result"
    }
   ],
   "source": [
    "import newton\n",
    "\n",
    "newton.newton(64,5)"
   ]
  },
  {
   "cell_type": "markdown",
   "id": "1eae3843",
   "metadata": {},
   "source": [
    "**Exercise** (Think Python 10.3): *Write a function that takes a list of numbers and returns the cumulative sum; that is, a new list where the ith element is the sum of the first i + 1 elements from the original list. For example, the cumulative sum of* `[1, 2, 3]` *is* `[1, 3, 6]`."
   ]
  },
  {
   "cell_type": "code",
   "execution_count": 8,
   "id": "6efffbf0",
   "metadata": {},
   "outputs": [
    {
     "data": {
      "text/plain": [
       "[1, 3, 6]"
      ]
     },
     "execution_count": 8,
     "metadata": {},
     "output_type": "execute_result"
    }
   ],
   "source": [
    "def cumul_sum(xs: list[int]) -> list[int]:\n",
    "    res = []\n",
    "    curr = 0\n",
    "    for x in xs:\n",
    "        curr += x\n",
    "        res.append(curr)\n",
    "    return res\n",
    "\n",
    "cumul_sum([1,2,3])"
   ]
  },
  {
   "cell_type": "markdown",
   "id": "69eca2f0",
   "metadata": {},
   "source": [
    "**Exercise**: Given the following lists, combine them using `enumerate` and a **three-way** `zip` to print this:\n",
    "```\n",
    "1: John Lennon, guitar\n",
    "2: Paul McCartney, bass\n",
    "3: George Harrison, guitar\n",
    "4: Ringo Starr, drums\n",
    "```"
   ]
  },
  {
   "cell_type": "code",
   "execution_count": 15,
   "id": "be9057ef",
   "metadata": {},
   "outputs": [
    {
     "name": "stdout",
     "output_type": "stream",
     "text": [
      "0: John Lennon, guitar\n",
      "1: Paul McCartney, bass\n",
      "2: George Harrison, guitar\n",
      "3: Ringo Starr, drums\n"
     ]
    }
   ],
   "source": [
    "n1 = [\"John\", \"Paul\", \"George\", \"Ringo\"]\n",
    "n2 = [\"Lennon\", \"McCartney\", \"Harrison\", \"Starr\"]\n",
    "inst = [\"guitar\", \"bass\", \"guitar\", \"drums\"]\n",
    "\n",
    "for i, (a,b,inst) in enumerate(zip(n1,n2,inst)):\n",
    "    print(\"%d: %s %s, %s\" % ( i, a, b, inst ))"
   ]
  },
  {
   "cell_type": "markdown",
   "id": "2b9b3888",
   "metadata": {},
   "source": [
    "* Think Python exercise 6.6: write a recursive function `is_palindrome` which works by checking whether the first and last elements of a string are equal, and if so, calls itself on the remainder."
   ]
  },
  {
   "cell_type": "code",
   "execution_count": null,
   "id": "b404e5d2",
   "metadata": {},
   "outputs": [
    {
     "data": {
      "text/plain": [
       "True"
      ]
     },
     "execution_count": 21,
     "metadata": {},
     "output_type": "execute_result"
    }
   ],
   "source": [
    "def is_palindrome(xs: str) -> bool:\n",
    "    if len(xs) == 0 or len(xs) == 1:\n",
    "        return True\n",
    "    if xs[0] == xs[-1]:\n",
    "        return is_palindrome(xs[1:-1]) \n",
    "    else:\n",
    "        return False\n",
    "# GPT5-mini attempt at solving\n",
    "def is_palindrome_slice_reverse(xs):\n",
    "    # oooh clever, we're essentially reversing the string and checking if theyre the same\n",
    "    #\n",
    "    return xs == xs[::-1]\n",
    "\n",
    "is_palindrome_slice_reverse(\"navan\")"
   ]
  },
  {
   "cell_type": "markdown",
   "id": "f1c24bb6",
   "metadata": {},
   "source": [
    "**Exercises**\n",
    "\n",
    "* Can we use indexing and slicing with strings? With sets? With dictionaries? Why/why not? Try them and observe the result.\n",
    "* Can we use `len` with lists? With sets? With dictionaries? Why/why not?\n",
    "* What happens if we say `for x in d`, a `dict`? Try it."
   ]
  },
  {
   "cell_type": "code",
   "execution_count": null,
   "id": "93215654",
   "metadata": {},
   "outputs": [
    {
     "name": "stdout",
     "output_type": "stream",
     "text": [
      "2\n",
      "2\n",
      "as\n",
      "bs\n"
     ]
    }
   ],
   "source": [
    "# yes, no, no\n",
    "# strs ordered list? enumerated list?\n",
    "# sets, no can only pop, no\n",
    "# dict, indexable, no\n",
    "\n",
    "xs = [1,2,3]\n",
    "xs[1]\n",
    "xs[:-1]\n",
    "\n",
    "a = {'a', 'b','c'}\n",
    "a.pop()\n",
    "print(len(a))\n",
    "\n",
    "d = {'as': 1, 'bs': 10}\n",
    "d['as']\n",
    "print(len(d))\n",
    "\n",
    "# d get iterable returns the keys\n",
    "for x in d:\n",
    "    print(x)"
   ]
  }
 ],
 "metadata": {
  "kernelspec": {
   "display_name": ".venv",
   "language": "python",
   "name": "python3"
  },
  "language_info": {
   "codemirror_mode": {
    "name": "ipython",
    "version": 3
   },
   "file_extension": ".py",
   "mimetype": "text/x-python",
   "name": "python",
   "nbconvert_exporter": "python",
   "pygments_lexer": "ipython3",
   "version": "3.12.7"
  }
 },
 "nbformat": 4,
 "nbformat_minor": 5
}
