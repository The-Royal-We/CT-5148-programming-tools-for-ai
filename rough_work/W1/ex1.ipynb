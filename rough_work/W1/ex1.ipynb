{
 "cells": [
  {
   "cell_type": "markdown",
   "id": "14adb231",
   "metadata": {},
   "source": [
    "# Excercise\n",
    "Write an expression which evals to `True` if the numof seconds in a year is gt that number of months in a millenium"
   ]
  },
  {
   "cell_type": "code",
   "execution_count": 1,
   "id": "d751c6be",
   "metadata": {},
   "outputs": [
    {
     "data": {
      "text/plain": [
       "True"
      ]
     },
     "execution_count": 1,
     "metadata": {},
     "output_type": "execute_result"
    }
   ],
   "source": [
    "def year_mil_soln():\n",
    "    secs_year = 365 * 24 * 60 * 60\n",
    "    months_mil = 1000 * 12\n",
    "    return secs_year >= months_mil \n",
    "\n",
    "year_mil_soln()"
   ]
  },
  {
   "cell_type": "markdown",
   "id": "5b2f6dce",
   "metadata": {},
   "source": [
    "## Excersice \n",
    "Using `while` write code that prints the Hailstones seq starting at `n`"
   ]
  },
  {
   "cell_type": "code",
   "execution_count": 3,
   "id": "c751b9ae",
   "metadata": {},
   "outputs": [
    {
     "name": "stdout",
     "output_type": "stream",
     "text": [
      "50\n",
      "25\n",
      "76\n",
      "38\n",
      "19\n",
      "58\n",
      "29\n",
      "88\n",
      "44\n",
      "22\n",
      "11\n",
      "34\n",
      "17\n",
      "52\n",
      "26\n",
      "13\n",
      "40\n",
      "20\n",
      "10\n",
      "5\n",
      "16\n",
      "8\n",
      "4\n",
      "2\n",
      "1\n"
     ]
    }
   ],
   "source": [
    "def hailstone_seq(n: int) :\n",
    "    current = n\n",
    "    while True:\n",
    "        print(current)\n",
    "        if current == 1:\n",
    "            return\n",
    "        if current % 2 == 0: # is even\n",
    "            current //= 2\n",
    "        else:\n",
    "            current = current * 3 + 1\n",
    "\n",
    "hailstone_seq(50)"
   ]
  }
 ],
 "metadata": {
  "kernelspec": {
   "display_name": ".venv",
   "language": "python",
   "name": "python3"
  },
  "language_info": {
   "codemirror_mode": {
    "name": "ipython",
    "version": 3
   },
   "file_extension": ".py",
   "mimetype": "text/x-python",
   "name": "python",
   "nbconvert_exporter": "python",
   "pygments_lexer": "ipython3",
   "version": "3.12.7"
  }
 },
 "nbformat": 4,
 "nbformat_minor": 5
}
