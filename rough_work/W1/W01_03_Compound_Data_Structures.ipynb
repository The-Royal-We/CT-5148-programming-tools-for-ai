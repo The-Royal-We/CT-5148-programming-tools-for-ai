{
 "cells": [
  {
   "cell_type": "markdown",
   "id": "b80c3fed",
   "metadata": {},
   "source": [
    "**Exercise** (Think Python 10.3): *Write a function that takes a list of numbers and returns the cumulative sum; that is, a new list where the ith element is the sum of the first i + 1 elements from the original list. For example, the cumulative sum of* `[1, 2, 3]` *is* `[1, 3, 6]`."
   ]
  },
  {
   "cell_type": "code",
   "execution_count": 3,
   "id": "63ae4ef8",
   "metadata": {},
   "outputs": [
    {
     "data": {
      "text/plain": [
       "[1, 3, 6]"
      ]
     },
     "execution_count": 3,
     "metadata": {},
     "output_type": "execute_result"
    }
   ],
   "source": [
    "def cumulative_sum(xs: list[int]) -> list[int]:\n",
    "    curr = 0\n",
    "    res = []\n",
    "    for x in xs:\n",
    "        curr += x\n",
    "        res.append(curr)\n",
    "\n",
    "    return res\n",
    "\n",
    "xs = [1,2,3]\n",
    "cumulative_sum(xs)"
   ]
  },
  {
   "cell_type": "markdown",
   "id": "c40eb191",
   "metadata": {},
   "source": [
    "**Exercise**: what would happen if we tried to iterate over the empty list? Guess, then try it.\n",
    "\n",
    "\n",
    "Initial guess... nothing will happen"
   ]
  },
  {
   "cell_type": "code",
   "execution_count": null,
   "id": "ebda440b",
   "metadata": {},
   "outputs": [],
   "source": [
    "xs = []\n",
    "for x in xs:\n",
    "    print(\"bang\") # Nothing happens"
   ]
  }
 ],
 "metadata": {
  "kernelspec": {
   "display_name": ".venv",
   "language": "python",
   "name": "python3"
  },
  "language_info": {
   "codemirror_mode": {
    "name": "ipython",
    "version": 3
   },
   "file_extension": ".py",
   "mimetype": "text/x-python",
   "name": "python",
   "nbconvert_exporter": "python",
   "pygments_lexer": "ipython3",
   "version": "3.12.7"
  }
 },
 "nbformat": 4,
 "nbformat_minor": 5
}
